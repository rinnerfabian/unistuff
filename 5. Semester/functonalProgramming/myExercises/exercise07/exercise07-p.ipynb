{
 "cells": [
  {
   "cell_type": "markdown",
   "metadata": {},
   "source": [
    "### Assignment 7.1 (P) The List Module (part 2)\n",
    "\n",
    "In order to write short and easy to understand programs, it is crucial to use existing library functions for regularly appearing problem patterns. The most frequently used library functions are clearly those of the `List` Module and the following in particular. Check the documentation for their types and functionality:\n",
    "\n",
    "* `List.map`\n",
    "* `List.fold_left`\n",
    "* `List.fold_right`\n",
    "* `List.find_opt`\n",
    "* `List.filter`\n",
    "    \n",
    "Implement the following functions without using any recursive functions:\n",
    "\n",
    "1) `squaresum : int list -> int` computes $\\sum_{i=1}^{n} x_i^2$ for a list $[x_1, \\dotsc, x_n]$.\n",
    "\n",
    "2) `float_list : int list -> float list` converts all ints in the list to floats.\n",
    "\n",
    "3) `to_string : int list -> string` builds a string representation of the given list.\n",
    "\n",
    "4) `part_even : int list -> int list` partitions all even values to the front of the list."
   ]
  },
  {
   "cell_type": "code",
   "execution_count": null,
   "metadata": {},
   "outputs": [],
   "source": [
    "let squaresum l = (* TODO *)\n",
    "\n",
    "let float_list l = (* TODO *)\n",
    "\n",
    "let to_string l = (* TODO *)\n",
    "    \n",
    "let part_even l = (* TODO *)"
   ]
  },
  {
   "cell_type": "markdown",
   "metadata": {},
   "source": [
    "### Assignment 7.2 (P) Mappings\n",
    "\n",
    "There is a need to represent and modify a mapping from one set of values to another set of values in many applications. Remember how we stored the grades in the student record. Storing a list of pairs `'a * 'b` is a simple way to represent a mapping from type `'a` to type `'b`. This kind of list is typically referred to as an associative list:\n"
   ]
  },
  {
   "cell_type": "markdown",
   "metadata": {},
   "source": [
    "1) Implement these functions to work with mappings based on associative lists:\n",
    "* `is_empty : ('k * 'v) list -> bool`\n",
    "* `get : 'k -> ('k * 'v) list -> 'v option`\n",
    "* `put : 'k -> 'v -> ('k * 'v) list -> ('k * 'v) list`\n",
    "* `contains_key : 'k -> ('k * 'v) list -> bool`\n",
    "* `remove : 'k -> ('k * 'v) list -> ('k * 'v) list`\n",
    "* `keys : ('k * 'v) list -> 'k list`\n",
    "* `values : ('k * 'v) list -> 'v list`"
   ]
  },
  {
   "cell_type": "code",
   "execution_count": null,
   "metadata": {},
   "outputs": [],
   "source": [
    "let is_empty m = (* TODO *)\n",
    "\n",
    "let rec get k = (* TODO *)\n",
    "\n",
    "let put k v m = (* TODO *)\n",
    "\n",
    "let contains_key k m = (* TODO *)\n",
    "\n",
    "let rec remove k = (* TODO *)\n",
    "\n",
    "let keys m = (* TODO *)\n",
    "\n",
    "let values m = (* TODO *)"
   ]
  },
  {
   "cell_type": "markdown",
   "metadata": {},
   "source": [
    "2) Check the `List` module for functions that already provide (some of) these functionalities."
   ]
  },
  {
   "cell_type": "markdown",
   "metadata": {},
   "source": [
    "An alternative to associative lists is to use functions of type `'k -> 'v option` directly. So for example, the function `fun x -> x * x + 1` respresents a very efficient mapping from any number to the successor of its square.\n",
    "\n",
    "3) Implement the above functions again for mappings based on functions. Some of these functions cannot be implemented, however:"
   ]
  },
  {
   "cell_type": "code",
   "execution_count": null,
   "metadata": {},
   "outputs": [],
   "source": [
    "let is_empty m = (* TODO *)\n",
    "\n",
    "let get k m = (* TODO *)\n",
    "\n",
    "let put k v m = (* TODO *)\n",
    "\n",
    "let contains_key k m = (* TODO *)\n",
    "\n",
    "let remove k m = (* TODO *)\n",
    "\n",
    "let keys m = (* TODO *)\n",
    "\n",
    "let values m = (* TODO *)"
   ]
  },
  {
   "cell_type": "markdown",
   "metadata": {},
   "source": [
    "4) Discuss: What are the advantages of either approach? When would you use which?"
   ]
  },
  {
   "cell_type": "markdown",
   "metadata": {},
   "source": [
    "### Assignment 7.3 (P) Operator Functions\n",
    "\n",
    "In OCaml, infix notation of operators is just syntactic sugar for a call to the corresponding function. The binary addition `+` merely calls the function `(+) : int -> int -> int`.\n",
    "\n",
    "1) Discuss why this is a very useful feature."
   ]
  }
 ],
 "metadata": {
  "kernelspec": {
   "display_name": "OCaml 4.07.0",
   "language": "OCaml",
   "name": "ocaml-jupyter"
  },
  "language_info": {
   "codemirror_mode": "text/x-ocaml",
   "file_extension": ".ml",
   "mimetype": "text/x-ocaml",
   "name": "OCaml",
   "nbconverter_exporter": null,
   "pygments_lexer": "OCaml",
   "version": "4.07.0"
  }
 },
 "nbformat": 4,
 "nbformat_minor": 2
}
